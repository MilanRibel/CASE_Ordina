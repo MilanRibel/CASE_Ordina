{
 "cells": [
  {
   "cell_type": "code",
   "execution_count": 6,
   "id": "2cdeef9a",
   "metadata": {},
   "outputs": [
    {
     "name": "stderr",
     "output_type": "stream",
     "text": [
      "WARNING: This is a development server. Do not use it in a production deployment. Use a production WSGI server instead.\n",
      " * Running on http://localhost:9000\n",
      "Press CTRL+C to quit\n",
      "127.0.0.1 - - [04/May/2023 16:22:08] \"GET / HTTP/1.1\" 200 -\n",
      "127.0.0.1 - - [04/May/2023 16:22:22] \"POST /predict HTTP/1.1\" 200 -\n"
     ]
    }
   ],
   "source": [
    "from flask import Flask, render_template, request\n",
    "import pickle\n",
    "import pandas as pd\n",
    "\n",
    "app = Flask(__name__)\n",
    "# load the model\n",
    "model = pickle.load(open('final_XGBR.pkl', 'rb'))\n",
    "\n",
    "@app.route('/')\n",
    "def home():\n",
    "    result = ''\n",
    "    return render_template('index.html', **locals())\n",
    "\n",
    "@app.route('/predict', methods=['POST', 'GET'])\n",
    "def predict():\n",
    "    dteday = str(request.form['dteday'])\n",
    "    yr = float(request.form['yr'])\n",
    "    holiday = float(request.form['holiday'])\n",
    "    workingday = float(request.form['workingday'])\n",
    "    atemp = float(request.form['atemp'])\n",
    "    hum = float(request.form['hum'])\n",
    "    windspeed = float(request.form['windspeed'])\n",
    "    season_spring = float(request.form['season_spring'])\n",
    "    season_summer = float(request.form['season_summer'])\n",
    "    season_fall = float(request.form['season_fall'])\n",
    "    weathersit_medium = float(request.form['weathersit_medium'])\n",
    "    weathersit_bad = float(request.form['weathersit_bad'])\n",
    "    d = {'dteday':[dteday],'yr': [yr], 'holiday': [holiday], 'workingday': [workingday], 'atemp':[atemp],'hum':[hum],\n",
    "         'windspeed':[windspeed],'season_spring':[season_spring],'season_summer':[season_summer],'season_fall':[season_fall],\n",
    "         'weathersit_medium':[weathersit_medium],'weathersit_bad':[weathersit_bad]}\n",
    "    df=pd.DataFrame(data = d)\n",
    "    df['dteday']=pd.to_datetime(df['dteday'])\n",
    "    df.set_index('dteday', inplace=True)\n",
    "    result = model.predict(df)[0]\n",
    "    return render_template('index.html', **locals())\n",
    "\n",
    "\n",
    "if __name__ == '__main__':\n",
    "    from werkzeug.serving import run_simple\n",
    "    run_simple('localhost', 9000, app)\n",
    "\n"
   ]
  },
  {
   "cell_type": "code",
   "execution_count": null,
   "id": "ec31fc49",
   "metadata": {},
   "outputs": [],
   "source": []
  }
 ],
 "metadata": {
  "kernelspec": {
   "display_name": "Python 3 (ipykernel)",
   "language": "python",
   "name": "python3"
  },
  "language_info": {
   "codemirror_mode": {
    "name": "ipython",
    "version": 3
   },
   "file_extension": ".py",
   "mimetype": "text/x-python",
   "name": "python",
   "nbconvert_exporter": "python",
   "pygments_lexer": "ipython3",
   "version": "3.9.7"
  }
 },
 "nbformat": 4,
 "nbformat_minor": 5
}
